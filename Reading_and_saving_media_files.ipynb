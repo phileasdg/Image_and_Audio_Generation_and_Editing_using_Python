{
 "cells": [
  {
   "cell_type": "markdown",
   "metadata": {
    "collapsed": true,
    "pycharm": {
     "name": "#%% md\n"
    }
   },
   "source": [
    "# Reading and saving images, audio, and video"
   ]
  },
  {
   "cell_type": "code",
   "execution_count": null,
   "outputs": [],
   "source": [
    "from media_tools import *"
   ],
   "metadata": {
    "collapsed": false,
    "pycharm": {
     "name": "#%%\n"
    }
   }
  },
  {
   "cell_type": "markdown",
   "source": [
    "## Reading an image as an array, displaying and saving arrays as images:"
   ],
   "metadata": {
    "collapsed": false
   }
  },
  {
   "cell_type": "code",
   "execution_count": null,
   "outputs": [],
   "source": [
    "# Read an image as an array\n",
    "img = image_tools.read_image(\"sample_media/Mosse_2012_Hot_Rats.jpg\")\n",
    "\n",
    "# Show the image from the image array data\n",
    "image_tools.show_image(img)\n",
    "\n",
    "# Save the image array data as an image file\n",
    "image_tools.save_image(img, \"sample_media/example_saved_image.png\")"
   ],
   "metadata": {
    "collapsed": false,
    "pycharm": {
     "name": "#%%\n"
    }
   }
  },
  {
   "cell_type": "markdown",
   "source": [
    "## Reading audio data as an array:"
   ],
   "metadata": {
    "collapsed": false
   }
  },
  {
   "cell_type": "code",
   "execution_count": null,
   "outputs": [],
   "source": [
    "# Read mono audio data as an array\n",
    "mono_data, sr = audio_tools.read_audio(\"sample_media/stereo_sample.wav\", mono=True)\n",
    "\n",
    "# Read stereo audio data as an array\n",
    "stereo_data = audio_tools.read_audio(\"sample_media/stereo_sample.wav\", mono=False)[0]\n",
    "\n",
    "# Extract individual audio channels from array\n",
    "left_channel = stereo_data[0,:] # The first row of audio_data\n",
    "right_channel = stereo_data[1,:] # The second row of audio_data"
   ],
   "metadata": {
    "collapsed": false,
    "pycharm": {
     "name": "#%%\n"
    }
   }
  },
  {
   "cell_type": "markdown",
   "source": [
    "## Visualising audio data arrays:"
   ],
   "metadata": {
    "collapsed": false
   }
  },
  {
   "cell_type": "code",
   "execution_count": null,
   "outputs": [],
   "source": [
    "# Plot the waveforms of audio signals\n",
    "audio_tools.plot_waveform(stereo_data, sr)\n",
    "audio_tools.plot_waveform(left_channel, sr)\n",
    "audio_tools.plot_waveform(right_channel, sr)\n",
    "\n",
    "# Plot spectrograms of audio signals\n",
    "audio_tools.plot_spectrogram(left_channel, sr, title=\"Left ch. - Linear frequency scale\") # linear scale frequency histogram\n",
    "audio_tools.plot_spectrogram(right_channel, sr, title=\"Right ch. - Log frequency scale\" ,log_frequency_scale=True) # logarithmic scale frequency histogram\n",
    "\n",
    "# Plot and save a spectrogram to a file\n",
    "audio_tools.plot_spectrogram(left_channel, sr, axis=False, figsize=(35, 19.6), save_path=\"sample_media/example_saved_histogram.png\")"
   ],
   "metadata": {
    "collapsed": false,
    "pycharm": {
     "name": "#%%\n"
    }
   }
  },
  {
   "cell_type": "markdown",
   "source": [
    "**Note:** The plot_spectrogram function takes in a single audio signal, which means that we can only plot a single audio\n",
    "channel at a time.\n",
    "\n",
    "The plot_spectrogram function uses the `librosa.display` module's `specshow()` function. For more information about using\n",
    "`librosa` to plot spectrograms see the [official documentation](https://librosa.org/doc/main/auto_examples/plot_display.html#sphx-glr-auto-examples-plot-display-py).\n",
    "\n",
    "If you need to plot a spectrogram of a stereo audio file including the data from multiple channels, you can do so by\n",
    "averaging samples across channels using the `librosa.to_mono(audio_data)` function.\n",
    "\n",
    "The plot_spectrogram takes an optional `log_frequency_scale` argument, which defaults to `False`. If set to `False`, the\n",
    "histogram y-axis scale will be linear. If set to `True`, the histogram y-axis scale will be logarithmic."
   ],
   "metadata": {
    "collapsed": false
   }
  },
  {
   "cell_type": "markdown",
   "source": [
    "##  Playing audio data through an audio player interface:\n",
    "\n",
    "When working with audio, it can be really time-saving and pleasing to have a way of playing audio data on the fly. The\n",
    "`media_tools.audio_tools` module's `play_audio_from_array()` creates an audio player in a Jupyter\n",
    "notebook which can be used to play audio from audio data arrays. The function takes in two parameter: `audio_data`, and\n",
    "`sample rate`.\n",
    "\n",
    "**Caution:** This function is designed to work in Jupyter Notebooks as a rapid audio previewing tool, and is not guaranteed to work\n",
    "in other contexts."
   ],
   "metadata": {
    "collapsed": false
   }
  },
  {
   "cell_type": "code",
   "execution_count": null,
   "outputs": [],
   "source": [
    "audio_tools.play_audio_from_array(stereo_data, sr)"
   ],
   "metadata": {
    "collapsed": false,
    "pycharm": {
     "name": "#%%\n"
    }
   }
  },
  {
   "cell_type": "code",
   "execution_count": null,
   "outputs": [],
   "source": [
    "# Save audio array data to an audio file\n",
    "audio_tools.save_audio(\"sample_media/example_saved_audio.wav\", stereo_data, sr, mono=False)"
   ],
   "metadata": {
    "collapsed": false,
    "pycharm": {
     "name": "#%%\n"
    }
   }
  },
  {
   "cell_type": "markdown",
   "source": [
    "## Reading video to an array:"
   ],
   "metadata": {
    "collapsed": false
   }
  },
  {
   "cell_type": "code",
   "execution_count": null,
   "outputs": [],
   "source": [
    "from media_tools import video_tools"
   ],
   "metadata": {
    "collapsed": false,
    "pycharm": {
     "name": "#%%\n"
    }
   }
  },
  {
   "cell_type": "markdown",
   "source": [
    "##"
   ],
   "metadata": {
    "collapsed": false
   }
  }
 ],
 "metadata": {
  "kernelspec": {
   "name": "pycharm-40cf2c06",
   "language": "python",
   "display_name": "PyCharm (Image_and_Audio_Generation_and_Editing_using_Python)"
  },
  "language_info": {
   "codemirror_mode": {
    "name": "ipython",
    "version": 2
   },
   "file_extension": ".py",
   "mimetype": "text/x-python",
   "name": "python",
   "nbconvert_exporter": "python",
   "pygments_lexer": "ipython2",
   "version": "2.7.6"
  }
 },
 "nbformat": 4,
 "nbformat_minor": 0
}