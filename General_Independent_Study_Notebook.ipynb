{
 "cells": [
  {
   "cell_type": "markdown",
   "source": [
    "# Image and Audio Generation and Editing using Python\n",
    "## Independent study course [IN6010IS].\n",
    "\n",
    "This repository contains the Python work product of an independent study conducted at College of the Atlantic, Bar Harbor,\n",
    "ME."
   ],
   "metadata": {
    "collapsed": false,
    "pycharm": {
     "name": "#%% md\n"
    }
   }
  }
 ],
 "metadata": {
  "kernelspec": {
   "name": "pycharm-40cf2c06",
   "language": "python",
   "display_name": "PyCharm (Image_and_Audio_Generation_and_Editing_using_Python)"
  },
  "language_info": {
   "codemirror_mode": {
    "name": "ipython",
    "version": 2
   },
   "file_extension": ".py",
   "mimetype": "text/x-python",
   "name": "python",
   "nbconvert_exporter": "python",
   "pygments_lexer": "ipython2",
   "version": "2.7.6"
  }
 },
 "nbformat": 4,
 "nbformat_minor": 0
}