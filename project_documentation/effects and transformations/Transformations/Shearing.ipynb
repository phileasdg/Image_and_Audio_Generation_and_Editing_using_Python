{
 "cells": [
  {
   "cell_type": "markdown",
   "source": [
    "# Shearing 2d arrays"
   ],
   "metadata": {
    "collapsed": false,
    "pycharm": {
     "name": "#%% md\n"
    }
   }
  },
  {
   "cell_type": "code",
   "execution_count": 4,
   "outputs": [],
   "source": [
    "from media_tools import *\n",
    "import cv2\n",
    "\n",
    "sample_media = \"C:/Users/pdazeley-gaist23/PycharmProjects/Image_and_Audio_Generation_and_Editing_using_Python/sample_media/\"\n",
    "image = image_tools.read_image(sample_media + \"student_guide.jpg\")"
   ],
   "metadata": {
    "collapsed": false,
    "pycharm": {
     "name": "#%%\n"
    }
   }
  },
  {
   "cell_type": "markdown",
   "source": [
    "# Shearing 2d arrays:"
   ],
   "metadata": {
    "collapsed": false
   }
  },
  {
   "cell_type": "code",
   "execution_count": 2,
   "outputs": [
    {
     "data": {
      "text/plain": "<Figure size 864x576 with 1 Axes>",
      "image/png": "[encoded data removed]"
     },
     "metadata": {
      "needs_background": "light"
     },
     "output_type": "display_data"
    },
    {
     "data": {
      "text/plain": "<Figure size 864x576 with 1 Axes>",
      "image/png": "[encoded data removed]"
     },
     "metadata": {
      "needs_background": "light"
     },
     "output_type": "display_data"
    }
   ],
   "source": [
    "import numpy as np\n",
    "# create a sample chessboard image\n",
    "chessboard = np.zeros((3, 3, 3), dtype=np.uint8)\n",
    "# fill in the chess board pattern\n",
    "chessboard[::2, ::2] = chessboard[1::2, 1::2] = (255, 255, 255)\n",
    "# add a blue square in the middle of the chessboard\n",
    "chessboard[3:5, 3:5] = (0, 255, 255)\n",
    "# show the chessboard\n",
    "image_tools.show_image(chessboard, axis=True, title=\"Chessboard\")\n",
    "\n",
    "# shift every row on the chessboard by the index of the row multiplied by a given amount\n",
    "\n",
    "def staircase_shift(array, factor, axis=0):\n",
    "    \"\"\"\n",
    "    Shifts every row of an array by the index of the row multiplied by a given amount, (multiplied by 3 to conserve pixels).\n",
    "    row 1 gets shifted by 1 * factor, row 2 by 2 * factor, etc.\n",
    "    \"\"\"\n",
    "    for i in range(array.shape[axis]):\n",
    "        array = data_tools.roll_array(array, i * factor * 3, axes=(axis,))\n",
    "    return array\n",
    "\n",
    "chessboard_shifted = staircase_shift(chessboard, 2)\n",
    "image_tools.show_image(chessboard_shifted, axis=True, title=\"Chessboard shifted\")"
   ],
   "metadata": {
    "collapsed": false,
    "pycharm": {
     "name": "#%%\n"
    }
   }
  },
  {
   "cell_type": "markdown",
   "source": [
    "## Venetian blinds selection:"
   ],
   "metadata": {
    "collapsed": false
   }
  },
  {
   "cell_type": "code",
   "execution_count": 3,
   "outputs": [
    {
     "ename": "IndexError",
     "evalue": "index 3 is out of bounds for axis 2 with size 3",
     "output_type": "error",
     "traceback": [
      "\u001B[1;31m---------------------------------------------------------------------------\u001B[0m",
      "\u001B[1;31mIndexError\u001B[0m                                Traceback (most recent call last)",
      "\u001B[1;32mC:\\Users\\PDAZEL~1\\AppData\\Local\\Temp/ipykernel_20392/4128021423.py\u001B[0m in \u001B[0;36m<module>\u001B[1;34m\u001B[0m\n\u001B[0;32m     11\u001B[0m \u001B[1;33m\u001B[0m\u001B[0m\n\u001B[0;32m     12\u001B[0m \u001B[1;33m\u001B[0m\u001B[0m\n\u001B[1;32m---> 13\u001B[1;33m \u001B[0mvenetian_blinds_filled\u001B[0m \u001B[1;33m=\u001B[0m \u001B[0mvenetian_blinds\u001B[0m\u001B[1;33m(\u001B[0m\u001B[0mchessboard\u001B[0m\u001B[1;33m,\u001B[0m \u001B[1;33m(\u001B[0m\u001B[1;36m0\u001B[0m\u001B[1;33m,\u001B[0m \u001B[1;36m0\u001B[0m\u001B[1;33m,\u001B[0m \u001B[1;36m255\u001B[0m\u001B[1;33m)\u001B[0m\u001B[1;33m,\u001B[0m \u001B[0mstep_size\u001B[0m\u001B[1;33m=\u001B[0m\u001B[1;36m6\u001B[0m\u001B[1;33m)\u001B[0m\u001B[1;33m\u001B[0m\u001B[1;33m\u001B[0m\u001B[0m\n\u001B[0m\u001B[0;32m     14\u001B[0m \u001B[0mimage_tools\u001B[0m\u001B[1;33m.\u001B[0m\u001B[0mshow_image\u001B[0m\u001B[1;33m(\u001B[0m\u001B[0mvenetian_blinds_filled\u001B[0m\u001B[1;33m,\u001B[0m \u001B[0maxis\u001B[0m\u001B[1;33m=\u001B[0m\u001B[1;32mTrue\u001B[0m\u001B[1;33m,\u001B[0m \u001B[0mtitle\u001B[0m\u001B[1;33m=\u001B[0m\u001B[1;34m\"Filled venetian blinds\"\u001B[0m\u001B[1;33m)\u001B[0m\u001B[1;33m\u001B[0m\u001B[1;33m\u001B[0m\u001B[0m\n\u001B[0;32m     15\u001B[0m \u001B[1;33m\u001B[0m\u001B[0m\n",
      "\u001B[1;32mC:\\Users\\PDAZEL~1\\AppData\\Local\\Temp/ipykernel_20392/4128021423.py\u001B[0m in \u001B[0;36mvenetian_blinds\u001B[1;34m(array, fill_value, step_size, select, axis)\u001B[0m\n\u001B[0;32m      7\u001B[0m \u001B[1;32mdef\u001B[0m \u001B[0mvenetian_blinds\u001B[0m\u001B[1;33m(\u001B[0m\u001B[0marray\u001B[0m\u001B[1;33m,\u001B[0m \u001B[0mfill_value\u001B[0m\u001B[1;33m,\u001B[0m \u001B[0mstep_size\u001B[0m\u001B[1;33m=\u001B[0m\u001B[1;36m5\u001B[0m\u001B[1;33m,\u001B[0m \u001B[0mselect\u001B[0m\u001B[1;33m=\u001B[0m\u001B[1;36m3\u001B[0m \u001B[1;33m,\u001B[0m\u001B[0maxis\u001B[0m\u001B[1;33m=\u001B[0m\u001B[1;36m0\u001B[0m\u001B[1;33m)\u001B[0m\u001B[1;33m:\u001B[0m\u001B[1;33m\u001B[0m\u001B[1;33m\u001B[0m\u001B[0m\n\u001B[0;32m      8\u001B[0m     \u001B[1;31m# fill 3 rows every 5 rows with blue\u001B[0m\u001B[1;33m\u001B[0m\u001B[1;33m\u001B[0m\u001B[1;33m\u001B[0m\u001B[0m\n\u001B[1;32m----> 9\u001B[1;33m     \u001B[0marray\u001B[0m \u001B[1;33m=\u001B[0m \u001B[0mnp\u001B[0m\u001B[1;33m.\u001B[0m\u001B[0mselect\u001B[0m\u001B[1;33m(\u001B[0m\u001B[1;33m[\u001B[0m\u001B[0marray\u001B[0m\u001B[1;33m[\u001B[0m\u001B[1;33m:\u001B[0m\u001B[1;33m:\u001B[0m\u001B[0mstep_size\u001B[0m\u001B[1;33m,\u001B[0m \u001B[1;33m:\u001B[0m\u001B[1;33m:\u001B[0m\u001B[0mstep_size\u001B[0m\u001B[1;33m,\u001B[0m \u001B[0mselect\u001B[0m\u001B[1;33m]\u001B[0m \u001B[1;33m==\u001B[0m \u001B[0mfill_value\u001B[0m\u001B[1;33m]\u001B[0m\u001B[1;33m,\u001B[0m \u001B[1;33m[\u001B[0m\u001B[0marray\u001B[0m\u001B[1;33m[\u001B[0m\u001B[1;33m:\u001B[0m\u001B[1;33m:\u001B[0m\u001B[0mstep_size\u001B[0m\u001B[1;33m,\u001B[0m \u001B[1;33m:\u001B[0m\u001B[1;33m:\u001B[0m\u001B[0mstep_size\u001B[0m\u001B[1;33m,\u001B[0m \u001B[0mselect\u001B[0m\u001B[1;33m]\u001B[0m\u001B[1;33m]\u001B[0m\u001B[1;33m,\u001B[0m \u001B[0mdefault\u001B[0m\u001B[1;33m=\u001B[0m\u001B[0marray\u001B[0m\u001B[1;33m)\u001B[0m\u001B[1;33m\u001B[0m\u001B[1;33m\u001B[0m\u001B[0m\n\u001B[0m\u001B[0;32m     10\u001B[0m     \u001B[1;32mreturn\u001B[0m \u001B[0marray\u001B[0m\u001B[1;33m\u001B[0m\u001B[1;33m\u001B[0m\u001B[0m\n\u001B[0;32m     11\u001B[0m \u001B[1;33m\u001B[0m\u001B[0m\n",
      "\u001B[1;31mIndexError\u001B[0m: index 3 is out of bounds for axis 2 with size 3"
     ]
    }
   ],
   "source": [
    "# fill every other n elements of the array along an axis with blue using numpy\n",
    "venetian_blinds = np.zeros((8, 8, 3), dtype=np.uint8)\n",
    "venetian_blinds[::2, ::2] = venetian_blinds[1::2, 1::2] = (255, 255, 255)\n",
    "venetian_blinds[::2, ::2] = (0, 0, 255)\n",
    "# image_tools.show_image(venetian_blinds, axis=True, title=\"Venetian blinds\")\n",
    "\n",
    "def venetian_blinds(array, fill_value, step_size=5, select=3 ,axis=0):\n",
    "    # fill 3 rows every 5 rows with blue\n",
    "    array = np.select([array[::step_size, ::step_size, select] == fill_value], [array[::step_size, ::step_size, select]], default=array)\n",
    "    return array\n",
    "\n",
    "\n",
    "venetian_blinds_filled = venetian_blinds(chessboard, (0, 0, 255), step_size=6)\n",
    "image_tools.show_image(venetian_blinds_filled, axis=True, title=\"Filled venetian blinds\")\n"
   ],
   "metadata": {
    "collapsed": false,
    "pycharm": {
     "name": "#%%\n"
    }
   }
  },
  {
   "cell_type": "code",
   "execution_count": null,
   "outputs": [],
   "source": [
    "# shift the rows of the chessboard in alternating directions by a given amount\n",
    "def shear_2d_array(array, shear_amount):\n",
    "    shear_matrix = np.array([[1, shear_amount, 0], [0, 1, 0]])\n",
    "    return cv2.warpAffine(array, shear_matrix, (array.shape[1], array.shape[0]))\n",
    "\n",
    "sheared_chessboard = shear_2d_array(chessboard, shear_amount=0.99)\n",
    "image_tools.show_image(sheared_chessboard, axis=True, title=\"Sheared chessboard\")"
   ],
   "metadata": {
    "collapsed": false,
    "pycharm": {
     "name": "#%%\n"
    }
   }
  },
  {
   "cell_type": "code",
   "execution_count": null,
   "outputs": [],
   "source": [
    "shear_amount = 0.99\n",
    "shear_matrix = np.array([[1, shear_amount, 0], [0, 1, 0]])\n",
    "shear_image = cv2.warpAffine(chessboard, shear_matrix, (chessboard.shape[1], chessboard.shape[0]), borderMode=cv2.BORDER_CONSTANT, borderValue=(0, 0, 0), flags=cv2.INTER_NEAREST)\n",
    "image_tools.show_image(shear_image, axis=True, title=\"Sheared image\")\n"
   ],
   "metadata": {
    "collapsed": false,
    "pycharm": {
     "name": "#%%\n"
    }
   }
  }
 ],
 "metadata": {
  "kernelspec": {
   "display_name": "Python 3",
   "language": "python",
   "name": "python3"
  },
  "language_info": {
   "codemirror_mode": {
    "name": "ipython",
    "version": 2
   },
   "file_extension": ".py",
   "mimetype": "text/x-python",
   "name": "python",
   "nbconvert_exporter": "python",
   "pygments_lexer": "ipython2",
   "version": "2.7.6"
  }
 },
 "nbformat": 4,
 "nbformat_minor": 0
}