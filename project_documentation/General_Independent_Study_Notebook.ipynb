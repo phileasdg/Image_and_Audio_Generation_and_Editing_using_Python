{
 "cells": [
  {
   "cell_type": "markdown",
   "source": [
    "Phileas Dazeley-Gaist - Fall 2021 - College of the Atlantic\n",
    "\n",
    "# Image and Audio Generation and Editing using Python\n",
    "\n",
    "## Project description and origins\n",
    "\n",
    "The goal of this project is to explore digital media manipulations and generation using Python. The media types considered\n",
    "and explored throughout this project are images, audio files, and video files.\n",
    "\n",
    "## The `media_tools` package\n",
    "\n",
    "To facilitate working with media files, I put together a python package which I have rather uncreatively named `media_tools`,\n",
    "which resides in this repository inside the media_tools folder.\n",
    "\n",
    "The package uses a variety of libraries (see the citation section for a complete list) designed for data manipulation and\n",
    "visualisation, some of which specifically cater to certain media types.\n",
    "\n",
    "The media tools package, at present, contains 4 modules:\n",
    "- `image_tools`, designed to work with image files and data.\n",
    "- `audio_tools`, designed to work with audio files and data.\n",
    "- `video_tools`, designed to work with video files and data.\n",
    "- `data_tools`, designed to provide general purpose data manipulation capabilities when working with data arrays.\n",
    "\n",
    "## Citations: libraries, packages, and resources"
   ],
   "metadata": {
    "collapsed": false,
    "pycharm": {
     "name": "#%% md\n"
    }
   }
  },
  {
   "cell_type": "code",
   "execution_count": null,
   "outputs": [],
   "source": [],
   "metadata": {
    "collapsed": false,
    "pycharm": {
     "name": "#%%"
    }
   }
  }
 ],
 "metadata": {
  "kernelspec": {
   "name": "pycharm-40cf2c06",
   "language": "python",
   "display_name": "PyCharm (Image_and_Audio_Generation_and_Editing_using_Python)"
  },
  "language_info": {
   "codemirror_mode": {
    "name": "ipython",
    "version": 2
   },
   "file_extension": ".py",
   "mimetype": "text/x-python",
   "name": "python",
   "nbconvert_exporter": "python",
   "pygments_lexer": "ipython2",
   "version": "2.7.6"
  }
 },
 "nbformat": 4,
 "nbformat_minor": 0
}