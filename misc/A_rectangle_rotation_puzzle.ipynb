{
 "cells": [
  {
   "cell_type": "markdown",
   "metadata": {
    "collapsed": true,
    "pycharm": {
     "name": "#%% md\n"
    }
   },
   "source": [
    "# A rectangle rotation puzzle"
   ]
  },
  {
   "cell_type": "code",
   "execution_count": 196,
   "outputs": [],
   "source": [
    "import math\n",
    "\n",
    "import numpy as np\n",
    "from media_tools import *\n",
    "import cv2\n",
    "import math\n",
    "import matplotlib.pyplot as plt\n"
   ],
   "metadata": {
    "collapsed": false,
    "pycharm": {
     "name": "#%%\n"
    }
   }
  },
  {
   "cell_type": "markdown",
   "source": [
    "Suppose you have a rectangle 2d array described by a `(w, h)` tuple."
   ],
   "metadata": {
    "collapsed": false,
    "pycharm": {
     "name": "#%% md\n"
    }
   }
  },
  {
   "cell_type": "code",
   "execution_count": 197,
   "outputs": [],
   "source": [
    "rect = np.ones((100, 200))"
   ],
   "metadata": {
    "collapsed": false,
    "pycharm": {
     "name": "#%%\n"
    }
   }
  },
  {
   "cell_type": "markdown",
   "source": [
    "Let's find the coordinates of the rectangle's points and return them as a list of tuples."
   ],
   "metadata": {
    "collapsed": false,
    "pycharm": {
     "name": "#%% md\n"
    }
   }
  },
  {
   "cell_type": "code",
   "execution_count": 198,
   "outputs": [
    {
     "name": "stdout",
     "output_type": "stream",
     "text": [
      "[['top_right' (0, 199)]\n",
      " ['bottom_right' (99, 199)]\n",
      " ['bottom_left' (99, 0)]\n",
      " ['top_left' (0, 0)]]\n"
     ]
    }
   ],
   "source": [
    "point_names = ['top_left', 'top_right', 'bottom_right', 'bottom_left']\n",
    "rect_points = [(0, 0), (0, rect.shape[1] - 1), (rect.shape[0] - 1, rect.shape[1] - 1), (rect.shape[0] - 1, 0)]\n",
    "\n",
    "# roll the points so that bottom_left is first\n",
    "point_names = point_names[1:] + point_names[:1]\n",
    "rect_points = rect_points[1:] + rect_points[:1]\n",
    "\n",
    "# interweave the point names and points\n",
    "print(np.array(list(zip(point_names, rect_points))))"
   ],
   "metadata": {
    "collapsed": false,
    "pycharm": {
     "name": "#%%\n"
    }
   }
  },
  {
   "cell_type": "markdown",
   "source": [
    "## Rotating points by an angle around an origin:\n",
    "\n",
    "Suppose you want to rotate the rectangle by $\\theta$ degrees clockwise around an origin point. What would be the new coordinates of the rectangle's points?"
   ],
   "metadata": {
    "collapsed": false,
    "pycharm": {
     "name": "#%% md\n"
    }
   }
  },
  {
   "cell_type": "code",
   "execution_count": 199,
   "outputs": [],
   "source": [
    "theta = 45\n",
    "\n",
    "# we need a function that takes a list of points and finds the middle point.\n",
    "def find_middle(points):\n",
    "    x_list = [x for (x, y) in points]\n",
    "    y_list = [y for (x, y) in points]\n",
    "    return [np.mean(x_list), np.mean(y_list)]\n",
    "\n",
    "# we need a function that takes a list of points, a rotation angle, and an origin point and returns the coordinates of\n",
    "# the rotated points on an array.\n",
    "def rotate_points_around_origin(points, angle=0, origin=(0,0), cartesian=False):\n",
    "    # if no origin is given, find the middle of the points\n",
    "    if origin is \"centre\":\n",
    "        origin = find_middle(points)\n",
    "    # create a rotation matrix\n",
    "    if cartesian is True:\n",
    "        angle = -angle\n",
    "    rot_mat = cv2.getRotationMatrix2D(origin, -angle, 1)\n",
    "    # rotate the points and return the result as a list of tuples\n",
    "    return [tuple(np.dot(rot_mat, (x, y, 1)).astype(int)) for (x, y) in points]"
   ],
   "metadata": {
    "collapsed": false,
    "pycharm": {
     "name": "#%%\n"
    }
   }
  },
  {
   "cell_type": "code",
   "execution_count": 200,
   "outputs": [
    {
     "name": "stdout",
     "output_type": "stream",
     "text": [
      "Original points:\n",
      " [(0, 199), (99, 199), (99, 0), (0, 0)]\n",
      "Rotated points, theta = 45, origin = centre:\n",
      " [(-55, 134), (14, 204), (154, 64), (84, -5)]\n",
      "Rotated points, theta = 45, origin = (0, 0):\n",
      " [(0, 199), (70, 269), (210, 128), (140, 58)]\n"
     ]
    }
   ],
   "source": [
    "# let's print the original points for reference\n",
    "print(\"Original points:\\n\", rect_points)\n",
    "\n",
    "# let's get the rotated points for a rotation of 45 degrees at a few different origin points\n",
    "new_points_45_around_center = rotate_points_around_origin(rect_points, theta, origin=\"centre\")\n",
    "new_points_45_around_bottom_left = rotate_points_around_origin(rect_points, theta, origin=rect_points[0])\n",
    "\n",
    "# print the results\n",
    "print(\"Rotated points, theta = {}, origin = {}:\\n\".format(theta, \"centre\"), new_points_45_around_center)\n",
    "print(\"Rotated points, theta = {}, origin = {}:\\n\".format(theta, rect_points[3]), new_points_45_around_bottom_left)\n"
   ],
   "metadata": {
    "collapsed": false,
    "pycharm": {
     "name": "#%%\n"
    }
   }
  },
  {
   "cell_type": "markdown",
   "source": [
    "## Drawing polygons from points:\n",
    "\n",
    "Additionally, if we are going to draw the shapes, rotated, we need some functions to draw polygons."
   ],
   "metadata": {
    "collapsed": false
   }
  },
  {
   "cell_type": "code",
   "execution_count": 201,
   "outputs": [],
   "source": [
    "# draw a polygon centered at an origin using cv2.fillPoly\n",
    "def draw_poly(points, colour=(255, 255, 255, 255), crop_to_shape=False, flip_y=False):\n",
    "    # create an empty array to hold the polygon\n",
    "    if crop_to_shape is True:\n",
    "        dim = (max([y for (x, y) in points]) - min([y for (x, y) in points]) + 1, max([x for (x, y) in points]) - min([x for (x, y) in points])+ 1, 4)\n",
    "        # shift all points by the absolute of the minimum x and y values\n",
    "        points = np.asarray(points) - np.asarray([(min([x for (x, y) in points])), (min([y for (x, y) in points]))])\n",
    "    else:\n",
    "        dim = (max([y for (x, y) in points]) + 1, max([x for (x, y) in points]) + 1, 4)\n",
    "    print(\"dim:\", dim)\n",
    "    print(\"points:\", points)\n",
    "    # create the container array\n",
    "    poly_array = np.zeros(dim)\n",
    "    # fill the polygon\n",
    "    cv2.fillPoly(poly_array, [np.asarray(points)], colour)\n",
    "    if flip_y is True:\n",
    "        poly_array = cv2.flip(poly_array, 0)\n",
    "    return poly_array.astype(np.uint8)"
   ],
   "metadata": {
    "collapsed": false,
    "pycharm": {
     "name": "#%%\n"
    }
   }
  },
  {
   "cell_type": "code",
   "execution_count": 202,
   "outputs": [
    {
     "name": "stdout",
     "output_type": "stream",
     "text": [
      "dim: (201, 174, 4)\n",
      "points: ((0, 0), (0, 200), (173, 100))\n"
     ]
    },
    {
     "data": {
      "text/plain": "<Figure size 864x576 with 1 Axes>",
      "image/png": "[encoded data removed]"
     },
     "metadata": {
      "needs_background": "light"
     },
     "output_type": "display_data"
    }
   ],
   "source": [
    "# given two points on an equilateral triangle, find the coordinates of the last point\n",
    "equilateral_triangle_points = ((0, 0), (0, 200), tuple(np.floor(np.asarray((np.sqrt(200**2 - (200/2)**2), 200/2))).astype(int)))\n",
    "\n",
    "# draw the equilateral triangle\n",
    "equilateral_triangle = draw_poly(equilateral_triangle_points, colour=(0, 255, 255, 255))\n",
    "image_tools.show_image(equilateral_triangle, axis=True, title=\"Equilateral triangle\")"
   ],
   "metadata": {
    "collapsed": false,
    "pycharm": {
     "name": "#%%\n"
    }
   }
  },
  {
   "cell_type": "markdown",
   "source": [
    "## Drawing polygons with alpha channels:"
   ],
   "metadata": {
    "collapsed": false,
    "pycharm": {
     "name": "#%% md\n"
    }
   }
  },
  {
   "cell_type": "code",
   "execution_count": 203,
   "outputs": [
    {
     "name": "stdout",
     "output_type": "stream",
     "text": [
      "dim: (205, 155, 4)\n",
      "points: [(-55, 134), (14, 204), (154, 64), (84, -5)]\n"
     ]
    },
    {
     "data": {
      "text/plain": "<Figure size 432x288 with 1 Axes>",
      "image/png": "[encoded data removed]"
     },
     "metadata": {
      "needs_background": "light"
     },
     "output_type": "display_data"
    }
   ],
   "source": [
    "# get a polygon image array\n",
    "rot_45_poly_around_centre = draw_poly(new_points_45_around_center, colour=(0, 255, 255, 25))\n",
    "# plot the polygons separately\n",
    "image_tools.show_image(rot_45_poly_around_centre, axis=True, title=\"Polygon rotated 45 degrees around centre\", scale_ratio=1)"
   ],
   "metadata": {
    "collapsed": false,
    "pycharm": {
     "name": "#%%\n"
    }
   }
  },
  {
   "cell_type": "code",
   "execution_count": 204,
   "outputs": [
    {
     "name": "stdout",
     "output_type": "stream",
     "text": [
      "Canvas shape: \n",
      "(300, 300, 4)\n",
      "Rectangle shape: \n",
      "(100, 200)\n",
      "Rectangle points: \n",
      "[(0, 199), (99, 199), (99, 0), (0, 0)] \n",
      "\n"
     ]
    }
   ],
   "source": [
    "# create a blank canvas\n",
    "canvas = np.zeros((300, 300, 4), np.uint8)\n",
    "# canvas[:, :, 3] = 255\n",
    "print(\"Canvas shape: \\n{}\" .format(canvas.shape))\n",
    "\n",
    "# rectangle\n",
    "print(\"Rectangle shape: \\n{}\".format(rect.shape))\n",
    "print(\"Rectangle points: \\n{}\".format(rect_points), \"\\n\")\n",
    "\n",
    "# blit the the polygon onto the canvas, translated at the correct position\n",
    "\n",
    "def find_displace(poly_points, origin = (0, 0)):\n",
    "    # displace = the minimum x and y values - the origin point\n",
    "    displacement = np.asarray([min([x for (x, y) in poly_points]), min([y for (x, y) in poly_points])])\n",
    "    return displacement"
   ],
   "metadata": {
    "collapsed": false,
    "pycharm": {
     "name": "#%%\n"
    }
   }
  },
  {
   "cell_type": "code",
   "execution_count": 205,
   "outputs": [
    {
     "name": "stdout",
     "output_type": "stream",
     "text": [
      "dim: (200, 100, 4)\n",
      "points: [(0, 199), (99, 199), (99, 0), (0, 0)]\n"
     ]
    },
    {
     "data": {
      "text/plain": "<Figure size 432x288 with 1 Axes>",
      "image/png": "[encoded data removed]"
     },
     "metadata": {
      "needs_background": "light"
     },
     "output_type": "display_data"
    },
    {
     "data": {
      "text/plain": "<Figure size 432x288 with 1 Axes>",
      "image/png": "[encoded data removed]"
     },
     "metadata": {
      "needs_background": "light"
     },
     "output_type": "display_data"
    }
   ],
   "source": [
    "## get the original rectangle\n",
    "poly = draw_poly(rect_points, colour=(0, 255, 255, 255))\n",
    "image_tools.show_image(poly, axis=True, title=\"Rectangle\", scale_ratio=1)\n",
    "canvas_rect = data_tools.blit(poly, canvas)\n",
    "image_tools.show_image(canvas_rect, axis=True, title=\"Rectangle\", scale_ratio=1)"
   ],
   "metadata": {
    "collapsed": false,
    "pycharm": {
     "name": "#%%\n"
    }
   }
  },
  {
   "cell_type": "code",
   "execution_count": 206,
   "outputs": [
    {
     "name": "stdout",
     "output_type": "stream",
     "text": [
      "dim: (270, 211, 4)\n",
      "points: [(0, 199), (70, 269), (210, 128), (140, 58)]\n"
     ]
    },
    {
     "data": {
      "text/plain": "<Figure size 432x288 with 1 Axes>",
      "image/png": "[encoded data removed]"
     },
     "metadata": {
      "needs_background": "light"
     },
     "output_type": "display_data"
    },
    {
     "data": {
      "text/plain": "<Figure size 432x288 with 1 Axes>",
      "image/png": "[encoded data removed]"
     },
     "metadata": {
      "needs_background": "light"
     },
     "output_type": "display_data"
    }
   ],
   "source": [
    "## get a rotated polygon\n",
    "poly_rot = draw_poly(new_points_45_around_bottom_left, colour=(255, 0, 255, 255))\n",
    "image_tools.show_image(poly_rot, axis=True, title=\"Polygon rotated 45 degrees around bottom left\", scale_ratio=1)\n",
    "canvas_rot_bottom_left = data_tools.blit(poly_rot, canvas)\n",
    "image_tools.show_image(canvas_rot_bottom_left, axis=True, title=\"Polygon rotated 45 degrees around bottom left\", scale_ratio=1)"
   ],
   "metadata": {
    "collapsed": false,
    "pycharm": {
     "name": "#%%\n"
    }
   }
  },
  {
   "cell_type": "markdown",
   "source": [
    "We did it! we figured out how to rotate points, plot them as a polygon, and blit them to an image array! Go us!!!"
   ],
   "metadata": {
    "collapsed": false,
    "pycharm": {
     "name": "#%% md\n"
    }
   }
  }
 ],
 "metadata": {
  "kernelspec": {
   "name": "pycharm-40cf2c06",
   "language": "python",
   "display_name": "PyCharm (Image_and_Audio_Generation_and_Editing_using_Python)"
  },
  "language_info": {
   "codemirror_mode": {
    "name": "ipython",
    "version": 2
   },
   "file_extension": ".py",
   "mimetype": "text/x-python",
   "name": "python",
   "nbconvert_exporter": "python",
   "pygments_lexer": "ipython2",
   "version": "2.7.6"
  }
 },
 "nbformat": 4,
 "nbformat_minor": 0
}