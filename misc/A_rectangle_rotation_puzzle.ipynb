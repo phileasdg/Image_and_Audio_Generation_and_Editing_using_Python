{
 "cells": [
  {
   "cell_type": "markdown",
   "metadata": {
    "collapsed": true,
    "pycharm": {
     "name": "#%% md\n"
    }
   },
   "source": [
    "# A rectangle rotation puzzle"
   ]
  },
  {
   "cell_type": "code",
   "execution_count": 1,
   "outputs": [],
   "source": [
    "import math\n",
    "\n",
    "import numpy as np\n",
    "from media_tools import *\n",
    "import cv2\n",
    "import math\n",
    "import matplotlib.pyplot as plt\n"
   ],
   "metadata": {
    "collapsed": false,
    "pycharm": {
     "name": "#%%\n"
    }
   }
  },
  {
   "cell_type": "markdown",
   "source": [
    "Suppose you have a rectangle 2d array described by a `(h, w)` tuple."
   ],
   "metadata": {
    "collapsed": false,
    "pycharm": {
     "name": "#%% md\n"
    }
   }
  },
  {
   "cell_type": "code",
   "execution_count": 2,
   "outputs": [],
   "source": [
    "rect = np.ones((100, 200))"
   ],
   "metadata": {
    "collapsed": false,
    "pycharm": {
     "name": "#%%\n"
    }
   }
  },
  {
   "cell_type": "markdown",
   "source": [
    "Let's find the coordinates of the rectangle's points and return them as a list of tuples."
   ],
   "metadata": {
    "collapsed": false,
    "pycharm": {
     "name": "#%% md\n"
    }
   }
  },
  {
   "cell_type": "code",
   "execution_count": 3,
   "outputs": [
    {
     "name": "stdout",
     "output_type": "stream",
     "text": [
      "[['top_right' (0, 199)]\n",
      " ['bottom_right' (99, 199)]\n",
      " ['bottom_left' (99, 0)]\n",
      " ['top_left' (0, 0)]]\n"
     ]
    }
   ],
   "source": [
    "point_names = ['top_left', 'top_right', 'bottom_right', 'bottom_left']\n",
    "rect_points = [(0, 0), (0, rect.shape[1] - 1), (rect.shape[0] - 1, rect.shape[1] - 1), (rect.shape[0] - 1, 0)]\n",
    "\n",
    "# roll the points so that bottom_left is first\n",
    "point_names = point_names[1:] + point_names[:1]\n",
    "rect_points = rect_points[1:] + rect_points[:1]\n",
    "\n",
    "# interweave the point names and points\n",
    "print(np.array(list(zip(point_names, rect_points))))"
   ],
   "metadata": {
    "collapsed": false,
    "pycharm": {
     "name": "#%%\n"
    }
   }
  },
  {
   "cell_type": "markdown",
   "source": [
    "## Rotating points by an angle around an origin:\n",
    "\n",
    "Suppose you want to rotate the rectangle by $\\theta$ degrees clockwise around an origin point. What would be the new coordinates of the rectangle's points?"
   ],
   "metadata": {
    "collapsed": false,
    "pycharm": {
     "name": "#%% md\n"
    }
   }
  },
  {
   "cell_type": "code",
   "execution_count": 4,
   "outputs": [],
   "source": [
    "theta = 45\n",
    "\n",
    "# we need a function that takes a list of points and finds the middle point.\n",
    "def find_middle(points):\n",
    "    x_list = [x for (x, y) in points]\n",
    "    y_list = [y for (x, y) in points]\n",
    "    return [np.mean(x_list), np.mean(y_list)]\n",
    "\n",
    "# we need a function that takes a list of points, a rotation angle, and an origin point and returns the coordinates of the rotated points on an array.\n",
    "def rotate_points_around_origin(points, theta=0, origin=(0,0)):\n",
    "    # if no origin is given, find the middle of the points\n",
    "    if origin is \"centre\":\n",
    "        origin = find_middle(points)\n",
    "    # create a rotation matrix\n",
    "    rot_mat = cv2.getRotationMatrix2D(origin, -theta, 1)\n",
    "    # rotate the points and return the result as a list of tuples\n",
    "    return [tuple(np.dot(rot_mat, (x, y, 1)).astype(int)) for (x, y) in points]"
   ],
   "metadata": {
    "collapsed": false,
    "pycharm": {
     "name": "#%%\n"
    }
   }
  },
  {
   "cell_type": "code",
   "execution_count": 5,
   "outputs": [
    {
     "name": "stdout",
     "output_type": "stream",
     "text": [
      "Original points:\n",
      " [(0, 199), (99, 199), (99, 0), (0, 0)]\n",
      "Rotated points, theta = 45, origin = centre:\n",
      " [(-55, 134), (14, 204), (154, 64), (84, -5)]\n",
      "Rotated points, theta = 45, origin = (0, 199):\n",
      " [(0, 199), (70, 269), (210, 128), (140, 58)]\n",
      "Rotated points, theta = 45, origin = (99, 199):\n",
      " [(28, 128), (99, 198), (239, 58), (169, -11)]\n",
      "Rotated points, theta = 45, origin = (99, 0):\n",
      " [(-111, 70), (-41, 140), (99, 0), (28, -70)]\n",
      "Rotated points, theta = 45, origin = (0, 0):\n",
      " [(-140, 140), (-70, 210), (70, 70), (0, 0)]\n"
     ]
    }
   ],
   "source": [
    "# let's print the original points for reference\n",
    "print(\"Original points:\\n\", rect_points)\n",
    "\n",
    "# let's get the rotated points for a rotation of 45 degrees at a few different origin points\n",
    "new_points_45_around_center = rotate_points_around_origin(rect_points, theta, origin=\"centre\")\n",
    "new_points_45_around_bottom_left = rotate_points_around_origin(rect_points, theta, origin=rect_points[3])\n",
    "new_points_45_around_bottom_right = rotate_points_around_origin(rect_points, theta, origin=rect_points[2])\n",
    "new_points_45_around_top_right = rotate_points_around_origin(rect_points, theta, origin=rect_points[1])\n",
    "new_points_45_around_top_left = rotate_points_around_origin(rect_points, theta, origin=rect_points[0])\n",
    "\n",
    "# print the results\n",
    "print(\"Rotated points, theta = {}, origin = {}:\\n\".format(theta, \"centre\"), new_points_45_around_center)\n",
    "print(\"Rotated points, theta = {}, origin = {}:\\n\".format(theta, rect_points[0]), new_points_45_around_top_left)\n",
    "print(\"Rotated points, theta = {}, origin = {}:\\n\".format(theta, rect_points[1]), new_points_45_around_top_right)\n",
    "print(\"Rotated points, theta = {}, origin = {}:\\n\".format(theta, rect_points[2]), new_points_45_around_bottom_right)\n",
    "print(\"Rotated points, theta = {}, origin = {}:\\n\".format(theta, rect_points[3]), new_points_45_around_bottom_left)"
   ],
   "metadata": {
    "collapsed": false,
    "pycharm": {
     "name": "#%%\n"
    }
   }
  },
  {
   "cell_type": "markdown",
   "source": [
    "## Drawing polygons from points:\n",
    "\n",
    "Additionally, if we are going to draw the shapes, rotated, we need some functions to draw polygons."
   ],
   "metadata": {
    "collapsed": false
   }
  },
  {
   "cell_type": "code",
   "execution_count": 126,
   "outputs": [],
   "source": [
    "# draw a polygon centered at an origin using cv2.fillPoly\n",
    "def draw_poly(points, origin=(0,0), colour=(255, 255, 255, 255)):\n",
    "    # if no origin is given, find the middle of the points\n",
    "    if origin is \"centre\":\n",
    "        origin = np.floor(np.asarray(find_middle(points))).astype(int)\n",
    "    # subtract the origin from each point\n",
    "    print(points)\n",
    "    # points = np.subtract(points, origin)\n",
    "    # subtract the smallest x and y values from each point\n",
    "    # points = np.subtract(points, np.min(points, axis=0))\n",
    "    # create an empty array to hold the polygon (must contain the max, and min x and y values, alpha must be 1)\n",
    "    poly_array = np.zeros((np.max(points, axis=0)[1] + 1, np.max(points, axis=0)[0] + 1, 4), dtype=np.uint8)\n",
    "    poly_array[:, :, 3] = 255\n",
    "    # add the origin back to each point\n",
    "    # points = np.add(points, origin)\n",
    "    # fill the empty array with the polygon\n",
    "    cv2.fillPoly(poly_array, [points], colour)\n",
    "    # return the filled array\n",
    "    return poly_array\n"
   ],
   "metadata": {
    "collapsed": false,
    "pycharm": {
     "name": "#%%\n"
    }
   }
  },
  {
   "cell_type": "code",
   "execution_count": 127,
   "outputs": [
    {
     "name": "stdout",
     "output_type": "stream",
     "text": [
      "((0, 0), (0, 100), (86, 50))\n"
     ]
    },
    {
     "ename": "error",
     "evalue": "OpenCV(4.5.3) :-1: error: (-5:Bad argument) in function 'fillPoly'\n> Overload resolution failed:\n>  - pts is not a numerical tuple\n>  - Expected Ptr<cv::UMat> for argument 'pts'\n",
     "output_type": "error",
     "traceback": [
      "\u001B[1;31m---------------------------------------------------------------------------\u001B[0m",
      "\u001B[1;31merror\u001B[0m                                     Traceback (most recent call last)",
      "\u001B[1;32mC:\\Users\\PDAZEL~1\\AppData\\Local\\Temp/ipykernel_6952/283508139.py\u001B[0m in \u001B[0;36m<module>\u001B[1;34m\u001B[0m\n\u001B[0;32m      3\u001B[0m \u001B[1;33m\u001B[0m\u001B[0m\n\u001B[0;32m      4\u001B[0m \u001B[1;31m# draw the equilateral triangle\u001B[0m\u001B[1;33m\u001B[0m\u001B[1;33m\u001B[0m\u001B[1;33m\u001B[0m\u001B[0m\n\u001B[1;32m----> 5\u001B[1;33m \u001B[0mequilateral_triangle\u001B[0m \u001B[1;33m=\u001B[0m \u001B[0mdraw_poly\u001B[0m\u001B[1;33m(\u001B[0m\u001B[0mequilateral_triangle_points\u001B[0m\u001B[1;33m,\u001B[0m \u001B[0mcolour\u001B[0m\u001B[1;33m=\u001B[0m\u001B[1;33m(\u001B[0m\u001B[1;36m0\u001B[0m\u001B[1;33m,\u001B[0m \u001B[1;36m255\u001B[0m\u001B[1;33m,\u001B[0m \u001B[1;36m255\u001B[0m\u001B[1;33m,\u001B[0m \u001B[1;36m255\u001B[0m\u001B[1;33m)\u001B[0m\u001B[1;33m)\u001B[0m\u001B[1;33m\u001B[0m\u001B[1;33m\u001B[0m\u001B[0m\n\u001B[0m\u001B[0;32m      6\u001B[0m \u001B[0mimage_tools\u001B[0m\u001B[1;33m.\u001B[0m\u001B[0mshow_image\u001B[0m\u001B[1;33m(\u001B[0m\u001B[0mequilateral_triangle\u001B[0m\u001B[1;33m,\u001B[0m \u001B[0maxis\u001B[0m\u001B[1;33m=\u001B[0m\u001B[1;32mTrue\u001B[0m\u001B[1;33m,\u001B[0m \u001B[0mtitle\u001B[0m\u001B[1;33m=\u001B[0m\u001B[1;34m\"Equilateral triangle\"\u001B[0m\u001B[1;33m)\u001B[0m\u001B[1;33m\u001B[0m\u001B[1;33m\u001B[0m\u001B[0m\n\u001B[0;32m      7\u001B[0m \u001B[1;33m\u001B[0m\u001B[0m\n",
      "\u001B[1;32mC:\\Users\\PDAZEL~1\\AppData\\Local\\Temp/ipykernel_6952/836809372.py\u001B[0m in \u001B[0;36mdraw_poly\u001B[1;34m(points, origin, colour)\u001B[0m\n\u001B[0;32m     15\u001B[0m     \u001B[1;31m# points = np.add(points, origin)\u001B[0m\u001B[1;33m\u001B[0m\u001B[1;33m\u001B[0m\u001B[1;33m\u001B[0m\u001B[0m\n\u001B[0;32m     16\u001B[0m     \u001B[1;31m# fill the empty array with the polygon\u001B[0m\u001B[1;33m\u001B[0m\u001B[1;33m\u001B[0m\u001B[1;33m\u001B[0m\u001B[0m\n\u001B[1;32m---> 17\u001B[1;33m     \u001B[0mcv2\u001B[0m\u001B[1;33m.\u001B[0m\u001B[0mfillPoly\u001B[0m\u001B[1;33m(\u001B[0m\u001B[0mpoly_array\u001B[0m\u001B[1;33m,\u001B[0m \u001B[1;33m[\u001B[0m\u001B[0mpoints\u001B[0m\u001B[1;33m]\u001B[0m\u001B[1;33m,\u001B[0m \u001B[0mcolour\u001B[0m\u001B[1;33m)\u001B[0m\u001B[1;33m\u001B[0m\u001B[1;33m\u001B[0m\u001B[0m\n\u001B[0m\u001B[0;32m     18\u001B[0m     \u001B[1;31m# return the filled array\u001B[0m\u001B[1;33m\u001B[0m\u001B[1;33m\u001B[0m\u001B[1;33m\u001B[0m\u001B[0m\n\u001B[0;32m     19\u001B[0m     \u001B[1;32mreturn\u001B[0m \u001B[0mpoly_array\u001B[0m\u001B[1;33m\u001B[0m\u001B[1;33m\u001B[0m\u001B[0m\n",
      "\u001B[1;31merror\u001B[0m: OpenCV(4.5.3) :-1: error: (-5:Bad argument) in function 'fillPoly'\n> Overload resolution failed:\n>  - pts is not a numerical tuple\n>  - Expected Ptr<cv::UMat> for argument 'pts'\n"
     ]
    }
   ],
   "source": [
    "# given two points on an equilateral triangle, find the coordinates of the last point\n",
    "equilateral_triangle_points = ((0, 0), (0, 100), tuple(np.floor(np.asarray((np.sqrt(100**2 - (100/2)**2), 100/2))).astype(int)))\n",
    "\n",
    "# draw the equilateral triangle\n",
    "equilateral_triangle = draw_poly(equilateral_triangle_points, colour=(0, 255, 255, 255))\n",
    "image_tools.show_image(equilateral_triangle, axis=True, title=\"Equilateral triangle\")"
   ],
   "metadata": {
    "collapsed": false,
    "pycharm": {
     "name": "#%%\n"
    }
   }
  },
  {
   "cell_type": "markdown",
   "source": [
    "## Showing images with alpha channels:\n",
    "\n",
    "For added convenience, we also want to make sure we can set different opacity levels for the polygons."
   ],
   "metadata": {
    "collapsed": false,
    "pycharm": {
     "name": "#%% md\n"
    }
   }
  },
  {
   "cell_type": "code",
   "execution_count": 8,
   "outputs": [
    {
     "name": "stdout",
     "output_type": "stream",
     "text": [
      "pixel: [[array([  0, 255, 255, 127], dtype=uint8)]] \n",
      "pixel2: [[array([255,   0, 255,  63], dtype=uint8)]] \n",
      "pixel3: [[[127 127 255  95]]]\n"
     ]
    },
    {
     "data": {
      "text/plain": "<Figure size 432x288 with 1 Axes>",
      "image/png": "[encoded data removed]"
     },
     "metadata": {
      "needs_background": "light"
     },
     "output_type": "display_data"
    },
    {
     "data": {
      "text/plain": "<Figure size 432x288 with 1 Axes>",
      "image/png": "[encoded data removed]"
     },
     "metadata": {
      "needs_background": "light"
     },
     "output_type": "display_data"
    },
    {
     "data": {
      "text/plain": "<Figure size 432x288 with 1 Axes>",
      "image/png": "[encoded data removed]"
     },
     "metadata": {
      "needs_background": "light"
     },
     "output_type": "display_data"
    }
   ],
   "source": [
    "# generate a cyan pixel with alpha = 0.5, and a pink pixel with alpha = 0.25\n",
    "alpha = 0.5\n",
    "alpha2 = 0.25\n",
    "\n",
    "pixel = [[np.array([0, 255, 255, math.floor(alpha*255)], dtype=np.uint8)]]\n",
    "pixel2 = [[np.array([255, 0, 255, math.floor(alpha2*255)], dtype=np.uint8)]]\n",
    "# pixel3 = the average of *pixel and *pixel2\n",
    "pixel3 = np.floor(np.mean(np.array([pixel, pixel2]), axis=0)).astype(int)\n",
    "\n",
    "print(\"pixel:\", pixel, \"\\npixel2:\", pixel2, \"\\npixel3:\", pixel3)\n",
    "\n",
    "# show the pixels with alpha channels\n",
    "\n",
    "image_tools.show_image(pixel, axis=True, title=\"cyan pixel, alpha = {}\".format(alpha), scale_ratio=1)\n",
    "image_tools.show_image(pixel2, axis=True, title=\"cyan pixel, alpha = {}\".format(alpha2), scale_ratio=1)\n",
    "image_tools.show_image(pixel3, axis=True, title=\"cyan pixel, alpha = {}\".format(round(np.mean(np.array([alpha, alpha2])), 2)), scale_ratio=1)"
   ],
   "metadata": {
    "collapsed": false,
    "pycharm": {
     "name": "#%%\n"
    }
   }
  },
  {
   "cell_type": "markdown",
   "source": [
    "## Drawing polygons with alpha channels:"
   ],
   "metadata": {
    "collapsed": false,
    "pycharm": {
     "name": "#%% md\n"
    }
   }
  },
  {
   "cell_type": "code",
   "execution_count": 119,
   "outputs": [
    {
     "data": {
      "text/plain": "<Figure size 432x288 with 1 Axes>",
      "image/png": "[encoded data removed]"
     },
     "metadata": {
      "needs_background": "light"
     },
     "output_type": "display_data"
    },
    {
     "data": {
      "text/plain": "<Figure size 432x288 with 1 Axes>",
      "image/png": "[encoded data removed]"
     },
     "metadata": {
      "needs_background": "light"
     },
     "output_type": "display_data"
    }
   ],
   "source": [
    "# create a blank canvas\n",
    "canvas = np.zeros((300, 300, 4), np.uint8)\n",
    "canvas[:, :, 3] = 255\n",
    "\n",
    "# get the polygon image arrays\n",
    "rot_45_poly_around_centre = draw_poly(new_points_45_around_center, origin=(0,0), colour=(0, 255, 255, 255))\n",
    "rot_45_poly_around_bottom_left = draw_poly(new_points_45_around_bottom_left, colour=(0, 255, 255, 255))\n",
    "rot_45_poly_around_bottom_right = draw_poly(new_points_45_around_bottom_right, colour=(0, 255, 255, 255))\n",
    "rot_45_poly_around_top_right = draw_poly(new_points_45_around_top_right, colour=(0, 255, 255, 255))\n",
    "rot_45_poly_around_top_left = draw_poly(new_points_45_around_top_left, colour=(0, 255, 255, 255))\n",
    "\n",
    "# plot the polygons separately\n",
    "image_tools.show_image(rot_45_poly_around_centre, axis=True, title=\"Polygon rotated 45 degrees around centre\", scale_ratio=1)\n",
    "image_tools.show_image(rot_45_poly_around_bottom_left, axis=True, title=\"Polygon rotated 45 degrees around bottom left\", scale_ratio=1)\n",
    "# image_tools.show_image(rot_45_poly_around_bottom_right, axis=True, title=\"Polygon rotated 45 degrees around bottom right\", scale_ratio=1)\n",
    "# image_tools.show_image(rot_45_poly_around_top_right, axis=True, title=\"Polygon rotated 45 degrees around top right\", scale_ratio=1)\n",
    "# image_tools.show_image(rot_45_poly_around_top_left, axis=True, title=\"Polygon rotated 45 degrees around top left\", scale_ratio=1)\n",
    "\n"
   ],
   "metadata": {
    "collapsed": false,
    "pycharm": {
     "name": "#%%\n"
    }
   }
  }
 ],
 "metadata": {
  "kernelspec": {
   "name": "pycharm-40cf2c06",
   "language": "python",
   "display_name": "PyCharm (Image_and_Audio_Generation_and_Editing_using_Python)"
  },
  "language_info": {
   "codemirror_mode": {
    "name": "ipython",
    "version": 2
   },
   "file_extension": ".py",
   "mimetype": "text/x-python",
   "name": "python",
   "nbconvert_exporter": "python",
   "pygments_lexer": "ipython2",
   "version": "2.7.6"
  }
 },
 "nbformat": 4,
 "nbformat_minor": 0
}