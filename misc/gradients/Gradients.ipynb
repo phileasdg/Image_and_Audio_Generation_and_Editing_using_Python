{
 "cells": [
  {
   "cell_type": "markdown",
   "metadata": {
    "collapsed": true,
    "pycharm": {
     "name": "#%% md\n"
    }
   },
   "source": [
    "# Gradients"
   ]
  },
  {
   "cell_type": "code",
   "execution_count": 2,
   "outputs": [],
   "source": [
    "import numpy as np\n",
    "from media_tools import *\n",
    "import cv2"
   ],
   "metadata": {
    "collapsed": false,
    "pycharm": {
     "name": "#%%\n"
    }
   }
  },
  {
   "cell_type": "code",
   "execution_count": 3,
   "outputs": [
    {
     "data": {
      "text/plain": "<Figure size 432x288 with 1 Axes>",
      "image/png": "[encoded data removed]"
     },
     "metadata": {
      "needs_background": "light"
     },
     "output_type": "display_data"
    },
    {
     "data": {
      "text/plain": "<Figure size 432x288 with 1 Axes>",
      "image/png": "[encoded data removed]"
     },
     "metadata": {
      "needs_background": "light"
     },
     "output_type": "display_data"
    }
   ],
   "source": [
    "\n",
    "alpha_gradient = np.linspace(0, 1, 100)\n",
    "# create 2d array of pixels by repeating the alpha gradient along an axis\n",
    "alpha_gradient_2d_vertical = np.repeat(alpha_gradient[:, np.newaxis], 100, axis=1)\n",
    "alpha_gradient_2d_horizontal = np.repeat(alpha_gradient[np.newaxis, :], 100, axis=0)\n",
    "# show the alpha gradient\n",
    "image_tools.show_image(alpha_gradient_2d_vertical, axis=True, title=\"alpha gradient\", scale_ratio=1)\n",
    "image_tools.show_image(alpha_gradient_2d_horizontal, axis=True, title=\"alpha gradient\", scale_ratio=1)"
   ],
   "metadata": {
    "collapsed": false,
    "pycharm": {
     "name": "#%%\n"
    }
   }
  }
 ],
 "metadata": {
  "kernelspec": {
   "display_name": "Python 3",
   "language": "python",
   "name": "python3"
  },
  "language_info": {
   "codemirror_mode": {
    "name": "ipython",
    "version": 2
   },
   "file_extension": ".py",
   "mimetype": "text/x-python",
   "name": "python",
   "nbconvert_exporter": "python",
   "pygments_lexer": "ipython2",
   "version": "2.7.6"
  }
 },
 "nbformat": 4,
 "nbformat_minor": 0
}