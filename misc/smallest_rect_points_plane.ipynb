{
 "cells": [
  {
   "cell_type": "code",
   "execution_count": 126,
   "outputs": [],
   "source": [
    "import numpy as np\n",
    "from media_tools import *"
   ],
   "metadata": {
    "collapsed": false,
    "pycharm": {
     "name": "#%%\n"
    }
   }
  },
  {
   "cell_type": "markdown",
   "metadata": {
    "collapsed": true,
    "pycharm": {
     "name": "#%% md\n"
    }
   },
   "source": [
    "# A rectangle puzzle:\n",
    "\n",
    "Suppose you have a list of random points on a line: what is the smallest range that contains the list?"
   ]
  },
  {
   "cell_type": "code",
   "execution_count": 143,
   "outputs": [
    {
     "name": "stdout",
     "output_type": "stream",
     "text": [
      "points:\n",
      " [5 0 3 3 7 9 3 5 2 4]\n",
      "range:\n",
      " (0, 9)\n"
     ]
    }
   ],
   "source": [
    "np.random.seed(0)\n",
    "points = np.random.randint(0, 10, 10)\n",
    "ran = (np.min(points), np.max(points))\n",
    "\n",
    "print(\"points:\\n\", points)\n",
    "print(\"range:\\n\", ran)"
   ],
   "metadata": {
    "collapsed": false,
    "pycharm": {
     "name": "#%%\n"
    }
   }
  },
  {
   "cell_type": "markdown",
   "source": [
    "Okay, neat! So the shortest line we can plot the minimum to the maximum of all values in the list.\n",
    "\n",
    "Let's try the same thing in two dimensions. Suppose instead of points on a line, we have random points on a plane? What is the smallest range on the plane's axes which will contain all the points?\n",
    "\n",
    "In other words: What is the minimum bounding box for points on a two-dimensional plane."
   ],
   "metadata": {
    "collapsed": false,
    "pycharm": {
     "name": "#%% md\n"
    }
   }
  },
  {
   "cell_type": "code",
   "execution_count": 148,
   "outputs": [
    {
     "name": "stdout",
     "output_type": "stream",
     "text": [
      "points:\n",
      " [[ 0  0]\n",
      " [10 10]]\n",
      "range:\n",
      " [[0, 10], [0, 10]]\n"
     ]
    }
   ],
   "source": [
    "np.random.seed(1)\n",
    "points = np.asarray([(0, 0), (10, 10)])\n",
    "dim = len(points[0])\n",
    "\n",
    "def get_bounding_box(points):\n",
    "    # find the bounding box\n",
    "    bounding_box = []\n",
    "    for i in range(2):\n",
    "        min_val = points[0][i]\n",
    "        max_val = points[0][i]\n",
    "        for j in range(1, len(points)):\n",
    "            min_val = min(min_val, points[j][i])\n",
    "            max_val = max(max_val, points[j][i])\n",
    "        bounding_box.append([min_val, max_val])\n",
    "    return bounding_box\n",
    "\n",
    "ran = get_bounding_box(points)\n",
    "\n",
    "print(\"points:\\n\", points)\n",
    "print(\"range:\\n\", ran)"
   ],
   "metadata": {
    "collapsed": false,
    "pycharm": {
     "name": "#%%\n"
    }
   }
  },
  {
   "cell_type": "markdown",
   "source": [
    "Awesome! Let's generalise our approach to n dimensional points!\n",
    "\n",
    "## Smallest bounding-box in n-dimensions algorithm:"
   ],
   "metadata": {
    "collapsed": false,
    "pycharm": {
     "name": "#%% md\n"
    }
   }
  },
  {
   "cell_type": "code",
   "execution_count": 185,
   "outputs": [
    {
     "name": "stdout",
     "output_type": "stream",
     "text": [
      "points:\n",
      " [[4.17022005e-01 7.20324493e-01 1.14374817e-04]\n",
      " [3.02332573e-01 1.46755891e-01 9.23385948e-02]\n",
      " [1.86260211e-01 3.45560727e-01 3.96767474e-01]\n",
      " [5.38816734e-01 4.19194514e-01 6.85219500e-01]\n",
      " [2.04452250e-01 8.78117436e-01 2.73875932e-02]\n",
      " [6.70467510e-01 4.17304802e-01 5.58689828e-01]\n",
      " [1.40386939e-01 1.98101489e-01 8.00744569e-01]\n",
      " [9.68261576e-01 3.13424178e-01 6.92322616e-01]\n",
      " [8.76389152e-01 8.94606664e-01 8.50442114e-02]\n",
      " [3.90547832e-02 1.69830420e-01 8.78142503e-01]]\n",
      "bounding box:\n",
      " [[3.90547832e-02 9.68261576e-01]\n",
      " [1.46755891e-01 8.94606664e-01]\n",
      " [1.14374817e-04 8.78142503e-01]]\n",
      "bounding_box_points:\n",
      " [[3.90547832e-02 1.46755891e-01]\n",
      " [9.68261576e-01 8.94606664e-01]\n",
      " [3.90547832e-02 1.14374817e-04]\n",
      " [9.68261576e-01 8.78142503e-01]\n",
      " [1.46755891e-01 3.90547832e-02]\n",
      " [8.94606664e-01 9.68261576e-01]\n",
      " [1.46755891e-01 1.14374817e-04]\n",
      " [8.94606664e-01 8.78142503e-01]\n",
      " [1.14374817e-04 3.90547832e-02]\n",
      " [8.78142503e-01 9.68261576e-01]\n",
      " [1.14374817e-04 1.46755891e-01]\n",
      " [8.78142503e-01 8.94606664e-01]]\n"
     ]
    }
   ],
   "source": [
    "np.random.seed(1)\n",
    "\n",
    "# generate a list of n points in n_dimensions:\n",
    "def get_points(n, min=0, max=1, y_min=0, y_max=1, ndim=2):\n",
    "    points = np.zeros((n, ndim))\n",
    "    for i in range(n):\n",
    "        for j in range(ndim):\n",
    "            points[i][j] = min + (max - min) * np.random.random()\n",
    "    return points\n",
    "\n",
    "points = get_points(10,ndim=3)\n",
    "print(\"points:\\n\", points)\n",
    "\n",
    "# find the bounding box\n",
    "def get_bounding_box(points):\n",
    "    # check how many dimensions the points have\n",
    "    ndim = len(points[0])\n",
    "    # find the bounding box\n",
    "    bounding_box = []\n",
    "    for i in range(ndim):\n",
    "        min_val = points[0][i]\n",
    "        max_val = points[0][i]\n",
    "        for j in range(1, len(points)):\n",
    "            min_val = min(min_val, points[j][i])\n",
    "            max_val = max(max_val, points[j][i])\n",
    "        bounding_box.append([min_val, max_val])\n",
    "    return np.asarray(bounding_box)\n",
    "\n",
    "bounding_box = get_bounding_box(points)\n",
    "print(\"bounding box:\\n\", bounding_box)\n",
    "\n",
    "# convert the ndim bounding box data to point coordinates:\n",
    "def convert_bounding_box_to_points(bounding_box):\n",
    "    # get the number of dimensions\n",
    "    ndim = len(bounding_box)\n",
    "\n",
    "    return np.asarray(points)\n",
    "\n",
    "bounding_box_points = convert_bounding_box_to_points(bounding_box)\n",
    "print(\"bounding_box_points:\\n\", bounding_box_points)"
   ],
   "metadata": {
    "collapsed": false,
    "pycharm": {
     "name": "#%%\n"
    }
   }
  }
 ],
 "metadata": {
  "kernelspec": {
   "name": "python3",
   "language": "python",
   "display_name": "Python 3 (ipykernel)"
  },
  "language_info": {
   "codemirror_mode": {
    "name": "ipython",
    "version": 2
   },
   "file_extension": ".py",
   "mimetype": "text/x-python",
   "name": "python",
   "nbconvert_exporter": "python",
   "pygments_lexer": "ipython2",
   "version": "2.7.6"
  }
 },
 "nbformat": 4,
 "nbformat_minor": 0
}